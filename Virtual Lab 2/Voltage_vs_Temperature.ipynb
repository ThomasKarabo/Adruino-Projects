{
  "nbformat": 4,
  "nbformat_minor": 0,
  "metadata": {
    "colab": {
      "provenance": [],
      "authorship_tag": "ABX9TyN2sqDCdizq1iTs8x5OnN1K",
      "include_colab_link": true
    },
    "kernelspec": {
      "name": "python3",
      "display_name": "Python 3"
    },
    "language_info": {
      "name": "python"
    }
  },
  "cells": [
    {
      "cell_type": "markdown",
      "metadata": {
        "id": "view-in-github",
        "colab_type": "text"
      },
      "source": [
        "<a href=\"https://colab.research.google.com/github/ThomasKarabo/Adruino-Projects/blob/main/Virtual%20Lab%202/Voltage_vs_Temperature.ipynb\" target=\"_parent\"><img src=\"https://colab.research.google.com/assets/colab-badge.svg\" alt=\"Open In Colab\"/></a>"
      ]
    },
    {
      "cell_type": "code",
      "execution_count": 1,
      "metadata": {
        "id": "0_agY8-0XWbB"
      },
      "outputs": [],
      "source": [
        "temperature = [-40, -15, 10, 35, 60, 85, 110, 125]\n",
        "temp = [-40,-15, 10, 35, 48]\n",
        "#In °C"
      ]
    },
    {
      "cell_type": "code",
      "source": [
        "voltage = [99.9, 345, 609, 859, 1110, 1360, 1610, 1750]\n",
        "#In mV"
      ],
      "metadata": {
        "id": "1Hyj-x8rXwYo"
      },
      "execution_count": 2,
      "outputs": []
    },
    {
      "cell_type": "code",
      "source": [
        "resistance = [111, 154, 256.5, 718, 1000]\n",
        "#In kΩ"
      ],
      "metadata": {
        "id": "urW6i5b433jJ"
      },
      "execution_count": 3,
      "outputs": []
    },
    {
      "cell_type": "code",
      "source": [
        "import matplotlib.pyplot as plt"
      ],
      "metadata": {
        "id": "Is1JFmpLi3PK"
      },
      "execution_count": 4,
      "outputs": []
    },
    {
      "cell_type": "code",
      "source": [
        "plt.plot(temperature,voltage)\n",
        "plt.xlabel('Temperature in °C')\n",
        "plt.ylabel('Voltage in mV')\n",
        "plt.title(\"Voltage=f(temperature)\")\n",
        "plt.show()"
      ],
      "metadata": {
        "colab": {
          "base_uri": "https://localhost:8080/",
          "height": 295
        },
        "id": "TdQmmYr5jdjl",
        "outputId": "50744ee5-5247-4ccc-a42f-358dd267288c"
      },
      "execution_count": 5,
      "outputs": [
        {
          "output_type": "display_data",
          "data": {
            "text/plain": [
              "<Figure size 432x288 with 1 Axes>"
            ],
            "image/png": "[encoded data removed]"
          },
          "metadata": {
            "needs_background": "light"
          }
        }
      ]
    },
    {
      "cell_type": "code",
      "source": [
        "from numpy import ones,vstack\n",
        "from numpy.linalg import lstsq\n",
        "\n",
        "\n",
        "points = [(-40,125),(99.9,1750)]\n",
        "x_coords, y_coords = zip(*points)\n",
        "A = vstack([x_coords,ones(len(x_coords))]).T\n",
        "m, c = lstsq(A, y_coords)[0]\n",
        "print(\"Line Solution is y = {m}x + {c}\".format(m=m,c=c))\n",
        "print(\" \")"
      ],
      "metadata": {
        "colab": {
          "base_uri": "https://localhost:8080/"
        },
        "id": "GC-HyTvzonP-",
        "outputId": "6229678e-a5b5-4e05-8a64-1555d98adf4f"
      },
      "execution_count": 6,
      "outputs": [
        {
          "output_type": "stream",
          "name": "stdout",
          "text": [
            "Line Solution is y = 11.615439599714076x + 589.6175839885632\n",
            " \n"
          ]
        },
        {
          "output_type": "stream",
          "name": "stderr",
          "text": [
            "<ipython-input-6-17f05a86a04e>:8: FutureWarning: `rcond` parameter will change to the default of machine precision times ``max(M, N)`` where M and N are the input matrix dimensions.\n",
            "To use the future default and silence this warning we advise to pass `rcond=None`, to keep using the old, explicitly pass `rcond=-1`.\n",
            "  m, c = lstsq(A, y_coords)[0]\n"
          ]
        }
      ]
    },
    {
      "cell_type": "markdown",
      "source": [
        "The line is equation is given by: y = 11.615439599714076x + 589.6175839885632"
      ],
      "metadata": {
        "id": "USIgb97z6PT_"
      }
    },
    {
      "cell_type": "code",
      "source": [
        "plt.plot(temp,resistance)\n",
        "plt.xlabel('Temperature in °C')\n",
        "plt.ylabel('Resitance in kΩ')\n",
        "plt.title(\"Resistance=f(temperature)\")\n",
        "plt.show()"
      ],
      "metadata": {
        "colab": {
          "base_uri": "https://localhost:8080/",
          "height": 295
        },
        "id": "JDlCiFdW5eTb",
        "outputId": "7cf756c4-fda5-4d97-f8db-ef334a7c04ba"
      },
      "execution_count": 7,
      "outputs": [
        {
          "output_type": "display_data",
          "data": {
            "text/plain": [
              "<Figure size 432x288 with 1 Axes>"
            ],
            "image/png": "[encoded data removed]"
          },
          "metadata": {
            "needs_background": "light"
          }
        }
      ]
    },
    {
      "cell_type": "code",
      "source": [
        "a = 1.01689307\n",
        "b = 216.9374302"
      ],
      "metadata": {
        "id": "uqs_Ru4fXupL"
      },
      "execution_count": 9,
      "outputs": []
    },
    {
      "cell_type": "code",
      "source": [
        "\n",
        "x = input(\"Please give input in temperature: \")"
      ],
      "metadata": {
        "colab": {
          "base_uri": "https://localhost:8080/"
        },
        "id": "9exWkfwtmIzH",
        "outputId": "4ae2eed9-96ca-4dcb-ad67-6c973023e910"
      },
      "execution_count": 10,
      "outputs": [
        {
          "name": "stdout",
          "output_type": "stream",
          "text": [
            "Please give input in temperature: 25\n"
          ]
        }
      ]
    },
    {
      "cell_type": "code",
      "source": [
        "x = float(x)"
      ],
      "metadata": {
        "id": "7ikXh9jhpi_W"
      },
      "execution_count": 11,
      "outputs": []
    },
    {
      "cell_type": "code",
      "source": [
        "V_pred = 11.615439599714076*x + 589.6175839885632\n",
        "R_pred = (pow(a,x))*b"
      ],
      "metadata": {
        "id": "sl8DkARMppK7"
      },
      "execution_count": 12,
      "outputs": []
    },
    {
      "cell_type": "code",
      "source": [
        "#Lets see  for  some prediction\n",
        "\n",
        "print(f'The predicted voltage is: {V_pred} mV, and thepredicted resistance is: {R_pred} kΩ for the corresponding to the temperature is: {x} °C')"
      ],
      "metadata": {
        "colab": {
          "base_uri": "https://localhost:8080/"
        },
        "id": "r3Y6rHBHnEkh",
        "outputId": "23635c76-a79b-4882-df8d-5ee554a808e5"
      },
      "execution_count": 13,
      "outputs": [
        {
          "output_type": "stream",
          "name": "stdout",
          "text": [
            "The predicted voltage is: 880.003573981415 mV, and thepredicted resistance is: 329.7742059667556 kΩ for the corresponding to the temperature is: 25.0 °C\n"
          ]
        }
      ]
    }
  ]
}